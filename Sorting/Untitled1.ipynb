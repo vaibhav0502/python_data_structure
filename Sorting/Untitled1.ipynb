{
 "cells": [
  {
   "cell_type": "code",
   "execution_count": 1,
   "source": [
    "nums = [2,11,7,15]\r\n",
    "target = 9"
   ],
   "outputs": [],
   "metadata": {}
  },
  {
   "cell_type": "code",
   "execution_count": 2,
   "source": [
    "def a():\r\n",
    "    for i in range(len(nums)):\r\n",
    "        temp = nums[i]\r\n",
    "        for j in range(i+1, len(nums)):\r\n",
    "            if nums[i] + nums[j] == target:\r\n",
    "                return i, j\r\n",
    "\r\n",
    "a()"
   ],
   "outputs": [
    {
     "output_type": "execute_result",
     "data": {
      "text/plain": [
       "(0, 2)"
      ]
     },
     "metadata": {},
     "execution_count": 2
    }
   ],
   "metadata": {}
  },
  {
   "cell_type": "code",
   "execution_count": 3,
   "source": [
    "class Solution(object):\r\n",
    "    def twoSum(self, nums, target):\r\n",
    "        \"\"\"\r\n",
    "        :type nums: List[int]\r\n",
    "        :type target: int\r\n",
    "        :rtype: List[int]\r\n",
    "        \"\"\"\r\n",
    "        for i in range(len(nums)):\r\n",
    "            temp = nums[i]\r\n",
    "            for j in range(i+1, len(nums)):\r\n",
    "                if nums[i] + nums[j] == target:\r\n",
    "                    return [i, j]\r\n",
    "a = Solution()\r\n",
    "a.twoSum(nums, target)"
   ],
   "outputs": [
    {
     "output_type": "execute_result",
     "data": {
      "text/plain": [
       "[0, 2]"
      ]
     },
     "metadata": {},
     "execution_count": 3
    }
   ],
   "metadata": {}
  },
  {
   "cell_type": "code",
   "execution_count": 4,
   "source": [
    "class Solution(object):\r\n",
    "    def twoSum(self, nums, target):\r\n",
    "        \"\"\"\r\n",
    "        :type nums: List[int]\r\n",
    "        :type target: int\r\n",
    "        :rtype: List[int]\r\n",
    "        \"\"\"\r\n",
    "        num_dict = {}\r\n",
    "        for i in range(len(nums)):\r\n",
    "            if target - nums[i] in num_dict.keys():\r\n",
    "                return [num_dict.get(target - nums[i]), i]\r\n",
    "            else:\r\n",
    "                num_dict[nums[i]] = i"
   ],
   "outputs": [],
   "metadata": {}
  },
  {
   "cell_type": "code",
   "execution_count": 5,
   "source": [
    "a = Solution()\r\n",
    "a.twoSum(nums, target)"
   ],
   "outputs": [
    {
     "output_type": "execute_result",
     "data": {
      "text/plain": [
       "[0, 2]"
      ]
     },
     "metadata": {},
     "execution_count": 5
    }
   ],
   "metadata": {}
  },
  {
   "cell_type": "code",
   "execution_count": 6,
   "source": [
    "nums = [0,0,1,0]\r\n",
    "for i in range(len(nums)):\r\n",
    "    t = nums[i]\r\n",
    "    if t == 0:\r\n",
    "        nums.remove(t)\r\n",
    "        nums.append(t)\r\n",
    "        i = i+1\r\n",
    "nums"
   ],
   "outputs": [
    {
     "output_type": "execute_result",
     "data": {
      "text/plain": [
       "[1, 0, 0, 0]"
      ]
     },
     "metadata": {},
     "execution_count": 6
    }
   ],
   "metadata": {}
  },
  {
   "cell_type": "code",
   "execution_count": 7,
   "source": [
    "digits = [4,3,2,9]"
   ],
   "outputs": [],
   "metadata": {}
  },
  {
   "cell_type": "code",
   "execution_count": 8,
   "source": [
    "s = \"\"\r\n",
    "for i in digits:\r\n",
    "    s +=str(i)"
   ],
   "outputs": [],
   "metadata": {}
  },
  {
   "cell_type": "code",
   "execution_count": 9,
   "source": [
    "a = int(s) + 1\r\n",
    "[int(i) for i in str(a)]"
   ],
   "outputs": [
    {
     "output_type": "execute_result",
     "data": {
      "text/plain": [
       "[4, 3, 3, 0]"
      ]
     },
     "metadata": {},
     "execution_count": 9
    }
   ],
   "metadata": {}
  },
  {
   "cell_type": "code",
   "execution_count": 10,
   "source": [
    "s = \"\".join([str(i) for i in digits])\r\n",
    "a = int(s) + 1\r\n",
    "print([int(i) for i in str(a)])"
   ],
   "outputs": [
    {
     "output_type": "stream",
     "name": "stdout",
     "text": [
      "[4, 3, 3, 0]\n"
     ]
    }
   ],
   "metadata": {}
  },
  {
   "cell_type": "code",
   "execution_count": 11,
   "source": [
    "nums1 = [9,4,9,8,4]\r\n",
    "nums2 = [4,9,5,4]\r\n",
    "m = {}\r\n",
    "if len(nums1)<len(nums2):\r\n",
    "    nums1,nums2 = nums2,nums1\r\n",
    "for i in nums1:\r\n",
    "    if i not in m:\r\n",
    "        m[i] = 1\r\n",
    "    else:\r\n",
    "        m[i]+=1\r\n",
    "result = []\r\n",
    "for i in nums2:\r\n",
    "    if i in m and m[i]:\r\n",
    "        m[i]-=1\r\n",
    "        result.append(i)\r\n",
    "\r\n",
    "result"
   ],
   "outputs": [
    {
     "output_type": "execute_result",
     "data": {
      "text/plain": [
       "[4, 9, 4]"
      ]
     },
     "metadata": {},
     "execution_count": 11
    }
   ],
   "metadata": {}
  },
  {
   "cell_type": "code",
   "execution_count": 183,
   "source": [
    "nums = [2,2,1,1,0]\r\n",
    "# nums = [1]"
   ],
   "outputs": [],
   "metadata": {}
  },
  {
   "cell_type": "code",
   "execution_count": 12,
   "source": [
    "s = set(nums)\r\n",
    "for i in s:\r\n",
    "    if nums.count(i) == 1:\r\n",
    "        print( i)"
   ],
   "outputs": [
    {
     "output_type": "stream",
     "name": "stdout",
     "text": [
      "1\n"
     ]
    }
   ],
   "metadata": {}
  },
  {
   "cell_type": "code",
   "execution_count": 13,
   "source": [
    "nums = [10,10,12]\r\n",
    "out = nums[0]\r\n",
    "for i in range(1, len(nums)):\r\n",
    "    out = out ^ nums[i]\r\n",
    "print(out)"
   ],
   "outputs": [
    {
     "output_type": "stream",
     "name": "stdout",
     "text": [
      "12\n"
     ]
    }
   ],
   "metadata": {}
  },
  {
   "cell_type": "code",
   "execution_count": 14,
   "source": [
    "nums = [-1,-100,3,99]\r\n",
    "ror = 2\r\n",
    "nums[::-1][:ror] + nums[:(len(nums) - ror)]"
   ],
   "outputs": [
    {
     "output_type": "execute_result",
     "data": {
      "text/plain": [
       "[99, 3, -1, -100]"
      ]
     },
     "metadata": {},
     "execution_count": 14
    }
   ],
   "metadata": {}
  },
  {
   "cell_type": "code",
   "execution_count": 15,
   "source": [
    "nums[::-1]"
   ],
   "outputs": [
    {
     "output_type": "execute_result",
     "data": {
      "text/plain": [
       "[99, 3, -100, -1]"
      ]
     },
     "metadata": {},
     "execution_count": 15
    }
   ],
   "metadata": {}
  },
  {
   "cell_type": "code",
   "execution_count": 16,
   "source": [
    "nums[:(len(nums) - ror)]"
   ],
   "outputs": [
    {
     "output_type": "execute_result",
     "data": {
      "text/plain": [
       "[-1, -100]"
      ]
     },
     "metadata": {},
     "execution_count": 16
    }
   ],
   "metadata": {}
  },
  {
   "cell_type": "code",
   "execution_count": 17,
   "source": [
    "class Solution(object):\r\n",
    "    def rotate(self, nums, k):\r\n",
    "        \"\"\"\r\n",
    "        :type nums: List[int]\r\n",
    "        :type k: int\r\n",
    "        :rtype: None Do not return anything, modify nums in-place instead.\r\n",
    "        \"\"\"\r\n",
    "        for i in range(k):\r\n",
    "            nums.insert(0, nums[-1])\r\n",
    "            del nums[-1]\r\n",
    "        return nums"
   ],
   "outputs": [],
   "metadata": {}
  },
  {
   "cell_type": "code",
   "execution_count": 18,
   "source": [
    "nums = [1,2,3,4,5,6,7]\r\n",
    "k = 3\r\n",
    "nums[(len(nums) - k):] + nums[:(len(nums) - k)]"
   ],
   "outputs": [
    {
     "output_type": "execute_result",
     "data": {
      "text/plain": [
       "[5, 6, 7, 1, 2, 3, 4]"
      ]
     },
     "metadata": {},
     "execution_count": 18
    }
   ],
   "metadata": {}
  },
  {
   "cell_type": "code",
   "execution_count": null,
   "source": [],
   "outputs": [],
   "metadata": {}
  }
 ],
 "metadata": {
  "kernelspec": {
   "name": "python3",
   "display_name": "Python 3.7.4 64-bit ('base': conda)"
  },
  "language_info": {
   "codemirror_mode": {
    "name": "ipython",
    "version": 3
   },
   "file_extension": ".py",
   "mimetype": "text/x-python",
   "name": "python",
   "nbconvert_exporter": "python",
   "pygments_lexer": "ipython3",
   "version": "3.7.4"
  },
  "interpreter": {
   "hash": "6ace13e61ce3de3b06427a7ec45493e011c9b4deda0cc4d80d8e288107ab820d"
  }
 },
 "nbformat": 4,
 "nbformat_minor": 2
}