{
  "nbformat": 4,
  "nbformat_minor": 0,
  "metadata": {
    "colab": {
      "name": "Colab.ipynb",
      "provenance": [],
      "collapsed_sections": [],
      "toc_visible": true
    },
    "kernelspec": {
      "name": "python3",
      "display_name": "Python 3"
    },
    "language_info": {
      "name": "python"
    }
  },
  "cells": [
    {
      "cell_type": "code",
      "metadata": {
        "id": "WC8xCQuELWms"
      },
      "source": [
        "import pathlib\n",
        "from glob import glob\n",
        "import fnmatch\n",
        "import os"
      ],
      "execution_count": null,
      "outputs": []
    },
    {
      "cell_type": "code",
      "metadata": {
        "colab": {
          "base_uri": "https://localhost:8080/"
        },
        "id": "TYpVPmT5z7AP",
        "outputId": "f33dcaf0-182f-40e1-80bf-7a528e5ae3fe"
      },
      "source": [
        "from google.colab import drive\n",
        "drive.mount('/content/drive')\n",
        "#Ref:https://towardsdatascience.com/downloading-datasets-into-google-drive-via-google-colab-bcb1b30b0166"
      ],
      "execution_count": null,
      "outputs": [
        {
          "output_type": "stream",
          "name": "stdout",
          "text": [
            "Drive already mounted at /content/drive; to attempt to forcibly remount, call drive.mount(\"/content/drive\", force_remount=True).\n"
          ]
        }
      ]
    },
    {
      "cell_type": "markdown",
      "metadata": {
        "id": "rLkGLGGWsiaC"
      },
      "source": [
        "## Delete files from drive"
      ]
    },
    {
      "cell_type": "code",
      "metadata": {
        "id": "pQOr_oxJn3Ig",
        "colab": {
          "base_uri": "https://localhost:8080/"
        },
        "outputId": "9f98d711-1108-4afb-a9cc-a22f9637beb6"
      },
      "source": [
        "data_dir_train = '/content/drive/MyDrive'\n",
        "temp_path = os.path.join(data_dir_train, '*.jpg')\n",
        "\n",
        "path_list = [x for x in glob(temp_path)]\n",
        "# path_list\n",
        "\n",
        "len(path_list)\n",
        "# import shutil\n",
        "\n",
        "# remove data from path\n",
        "for l in path_list:\n",
        "  if os.path.exists(l):\n",
        "    os.remove(l)"
      ],
      "execution_count": null,
      "outputs": [
        {
          "output_type": "execute_result",
          "data": {
            "text/plain": [
              "0"
            ]
          },
          "metadata": {},
          "execution_count": 11
        }
      ]
    },
    {
      "cell_type": "markdown",
      "metadata": {
        "id": "4s0qjppOPEx2"
      },
      "source": [
        "Download data from kaggle"
      ]
    },
    {
      "cell_type": "code",
      "metadata": {
        "id": "CNgwnPDFr4OY"
      },
      "source": [
        "import os\n",
        "# jaggle username and key.....download api key\n",
        "os.environ['KAGGLE_USERNAME'] = \"xxxx\" # username from the json file\n",
        "os.environ['KAGGLE_KEY'] = \"xxxxxxxxxxxxxxxxxxxx\" # key from the json file"
      ],
      "execution_count": null,
      "outputs": []
    },
    {
      "cell_type": "code",
      "metadata": {
        "id": "YOQLds77r_Vc"
      },
      "source": [
        "# copy this from kaggle dataset\n",
        "!kaggle datasets download -d snap/amazon-fine-food-reviews"
      ],
      "execution_count": null,
      "outputs": []
    },
    {
      "cell_type": "code",
      "metadata": {
        "id": "zIZ3KG8tsFCd"
      },
      "source": [
        "# change directory\n",
        "%cd 'directory_path'\n",
        "\n",
        "!unzip -q 'file_name' -d 'destination'\n",
        "\n",
        "# move file\n",
        "!mv 'source 'destination'"
      ],
      "execution_count": null,
      "outputs": []
    },
    {
      "cell_type": "code",
      "metadata": {
        "id": "Ix1mhg0Sr2ai"
      },
      "source": [
        ""
      ],
      "execution_count": null,
      "outputs": []
    }
  ]
}