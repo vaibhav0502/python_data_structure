{
 "cells": [
  {
   "cell_type": "code",
   "execution_count": 7,
   "metadata": {},
   "outputs": [
    {
     "name": "stdout",
     "output_type": "stream",
     "text": [
      "[24, 12, 8, 6]\n"
     ]
    }
   ],
   "source": [
    "nums = [1, 2, 3, 4]\n",
    "temp = []\n",
    "for i in range(len(nums)):\n",
    "    temp_nums = nums.copy()\n",
    "    temp_nums[i] = 1\n",
    "    mul = 1\n",
    "    for j in temp_nums:\n",
    "        mul*=j\n",
    "    temp.append(mul)\n",
    "print(temp)"
   ]
  },
  {
   "cell_type": "code",
   "execution_count": 19,
   "metadata": {},
   "outputs": [
    {
     "name": "stdout",
     "output_type": "stream",
     "text": [
      "[[60, 21], [50, 31], [21, 60], [50, 31]]\n"
     ]
    }
   ],
   "source": [
    "a = [2, 21, 31, 14, 5, 60, 7, 6, 31, 50]\n",
    "k = 81\n",
    "final = []\n",
    "for i in range(len(a)-1):\n",
    "    start = a[i]\n",
    "    diff = abs(k-start)\n",
    "    if diff in a:\n",
    "        final.append([diff, start])\n",
    "\n",
    "print(final)"
   ]
  },
  {
   "cell_type": "code",
   "execution_count": 62,
   "metadata": {},
   "outputs": [
    {
     "name": "stdout",
     "output_type": "stream",
     "text": [
      "[1, 2]\n",
      "[2, 3, -1, -1]\n",
      "[3]\n"
     ]
    }
   ],
   "source": [
    "nums = [13, 1, 2, 3, -1, -1]\n",
    "k = 3\n",
    "for i in range(len(nums)):\n",
    "    sum = 0\n",
    "    temp = nums[i:]\n",
    "    for index, value in enumerate(temp):\n",
    "        sum+=value\n",
    "        if sum == k:\n",
    "            print(temp[0:index+1])"
   ]
  },
  {
   "cell_type": "code",
   "execution_count": null,
   "metadata": {},
   "outputs": [],
   "source": []
  },
  {
   "cell_type": "code",
   "execution_count": null,
   "metadata": {},
   "outputs": [],
   "source": []
  },
  {
   "cell_type": "code",
   "execution_count": null,
   "metadata": {},
   "outputs": [],
   "source": []
  }
 ],
 "metadata": {
  "kernelspec": {
   "display_name": "Python 3",
   "language": "python",
   "name": "python3"
  },
  "language_info": {
   "codemirror_mode": {
    "name": "ipython",
    "version": 3
   },
   "file_extension": ".py",
   "mimetype": "text/x-python",
   "name": "python",
   "nbconvert_exporter": "python",
   "pygments_lexer": "ipython3",
   "version": "3.7.4"
  }
 },
 "nbformat": 4,
 "nbformat_minor": 2
}
