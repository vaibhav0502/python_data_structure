{
 "cells": [
  {
   "cell_type": "markdown",
   "source": [
    "## Stack\r\n",
    "\r\n",
    "### What is Stack?\r\n",
    "\r\n",
    "Stack is an abstract data type with a bounded(predefined) capacity. It is a simple data structure that allows adding and removing elements in a particular order. Every time an element is added, it goes on the top of the stack and the only element that can be removed is the element that is at the top of the stack, just like a pile of objects.\r\n",
    "\r\n",
    "This feature feature makes it **LIFO** data structure. LIFO stands for **Last-in-first-out.** Here, the element which is placed (inserted or added) last, is accessed first. In stack terminology, **insertion operation** is called **PUSH** operation and **removal operation** is called **POP** operation.\r\n",
    "\r\n",
    "![title](../Resources/stack.png)"
   ],
   "metadata": {}
  },
  {
   "cell_type": "markdown",
   "source": [
    "### Applications of Stack:\n",
    "1. Expression evolution\n",
    "- Expression conversion\n",
    "    - Infix to Postfix\n",
    "    - Infix to Prefix\n",
    "    - Postfix to Infix\n",
    "    - Prefix to Infix\n",
    "- Parsing\n",
    "- Simulation of recusrion\n",
    "\n",
    "###  Operations:\n",
    "- PUSH\n",
    "- POP\n",
    "\n",
    "#### Algorithm for PUSH operation\n",
    "1. Check if the stack is full or not.\n",
    "2. If the stack is full, then print error of overflow and exit the program.\n",
    "3. If the stack is not full, then increment the top and add the element.\n",
    "\n",
    "#### Algorithm for POP operation\n",
    "1. Check if the stack is empty or not.\n",
    "2. If the stack is empty, then print error of underflow and exit the program.\n",
    "3. If the stack is not empty, then print the element at the top and decrement the top.\n",
    "\n",
    "### Time Complexity:\n",
    "- Push Operation : O(1)\n",
    "- Pop Operation : O(1)\n",
    "- Top Operation : O(1)\n",
    "- Search Operation : O(n)"
   ],
   "metadata": {}
  },
  {
   "cell_type": "markdown",
   "source": [
    "## Implementation:"
   ],
   "metadata": {}
  },
  {
   "cell_type": "code",
   "execution_count": 25,
   "source": [
    "# !pip install collection"
   ],
   "outputs": [],
   "metadata": {}
  },
  {
   "cell_type": "code",
   "execution_count": 26,
   "source": [
    "import random\r\n",
    "from collections import deque"
   ],
   "outputs": [],
   "metadata": {}
  },
  {
   "cell_type": "code",
   "execution_count": 30,
   "source": [
    "class Stack:\r\n",
    "    def __init__(self, limit=5, use_deque=False):\r\n",
    "        self.stack = []\r\n",
    "\r\n",
    "        if use_deque:\r\n",
    "            self.stack = deque()        \r\n",
    "\r\n",
    "        self.limit = limit\r\n",
    "    \r\n",
    "    def display_stack(self):\r\n",
    "        \"\"\"\r\n",
    "        Print stack elements\r\n",
    "        \"\"\"\r\n",
    "#         print(self.stack)\r\n",
    "        print(\" \".join(str(ele) for ele in self.stack))\r\n",
    "    \r\n",
    "    def push(self, element):\r\n",
    "        \"\"\"\r\n",
    "        Perform push operation.\r\n",
    "        \"\"\"\r\n",
    "        if len(self.stack) > self.limit:\r\n",
    "            print(\"Stack is overflow.\")\r\n",
    "        else:\r\n",
    "            self.stack.append(element)\r\n",
    "\r\n",
    "    def pop(self):\r\n",
    "        \"\"\"\r\n",
    "        Perform pop operation.\r\n",
    "        \"\"\"\r\n",
    "        if len(self.stack) <= 0:\r\n",
    "            print(\"Stack is underflow.\")\r\n",
    "        else:\r\n",
    "            self.stack.pop()\r\n"
   ],
   "outputs": [],
   "metadata": {}
  },
  {
   "cell_type": "code",
   "execution_count": 35,
   "source": [
    "if __name__ == '__main__':\r\n",
    "    print(\"Stack Implementation using list:\")\r\n",
    "    number = int(input(\"Enter limit for stack:\"))\r\n",
    "    stack_obj = Stack(limit=number)\r\n",
    "\r\n",
    "    # perform push\r\n",
    "    print(\"After POP\")\r\n",
    "    for i in range(number):\r\n",
    "        stack_obj.push(random.randint(1, 100))\r\n",
    " \r\n",
    "    # display stack\r\n",
    "    stack_obj.display_stack()\r\n",
    "\r\n",
    "    # perform pop\r\n",
    "    print(\"After POP\")\r\n",
    "    stack_obj.pop()\r\n",
    "    stack_obj.pop()\r\n",
    "    stack_obj.pop()\r\n",
    "\r\n",
    "    # display stack\r\n",
    "    stack_obj.display_stack()"
   ],
   "outputs": [
    {
     "output_type": "stream",
     "name": "stdout",
     "text": [
      "Stack Implementation using list:\n",
      "Enter limit for stack:34\n",
      "After POP\n",
      "87 42 59 17 67 43 80 18 80 82 76 99 30 57 83 79 23 5 34 1 89 11 96 79 17 43 90 17 87 23 75 16 37 52\n",
      "After POP\n",
      "87 42 59 17 67 43 80 18 80 82 76 99 30 57 83 79 23 5 34 1 89 11 96 79 17 43 90 17 87 23 75\n"
     ]
    }
   ],
   "metadata": {}
  },
  {
   "cell_type": "code",
   "execution_count": 36,
   "source": [
    "if __name__ == '__main__':\r\n",
    "    print(\"Stack Implementation using deque:\")\r\n",
    "    number = int(input(\"Enter limit for stack:\"))\r\n",
    "    stack_obj = Stack(limit=number, use_deque=True)\r\n",
    "\r\n",
    "    print(\"After PUSH\")\r\n",
    "    # perform push\r\n",
    "    for i in range(number):\r\n",
    "        stack_obj.push(random.randint(1, 100))\r\n",
    " \r\n",
    "    # display stack\r\n",
    "    stack_obj.display_stack()\r\n",
    "\r\n",
    "    # perform pop\r\n",
    "    print(\"After POP\")\r\n",
    "    stack_obj.pop()\r\n",
    "    stack_obj.pop()\r\n",
    "    stack_obj.pop()\r\n",
    "\r\n",
    "    # display stack\r\n",
    "    stack_obj.display_stack()"
   ],
   "outputs": [
    {
     "output_type": "stream",
     "name": "stdout",
     "text": [
      "Stack Implementation using deque:\n",
      "Enter limit for stack:12\n",
      "After PUSH\n",
      "91 16 10 83 11 31 81 58 14 25 89 44\n",
      "After POP\n",
      "91 16 10 83 11 31 81 58 14\n"
     ]
    }
   ],
   "metadata": {}
  },
  {
   "cell_type": "code",
   "execution_count": null,
   "source": [],
   "outputs": [],
   "metadata": {}
  },
  {
   "cell_type": "code",
   "execution_count": null,
   "source": [],
   "outputs": [],
   "metadata": {}
  }
 ],
 "metadata": {
  "interpreter": {
   "hash": "0ce8e330fdfa01a801b269af156d3b01cfc11a824d80e64c5301ff9b658b8ac9"
  },
  "kernelspec": {
   "display_name": "Python 3",
   "language": "python",
   "name": "python3"
  },
  "language_info": {
   "codemirror_mode": {
    "name": "ipython",
    "version": 3
   },
   "file_extension": ".py",
   "mimetype": "text/x-python",
   "name": "python",
   "nbconvert_exporter": "python",
   "pygments_lexer": "ipython3",
   "version": "3.7.4"
  }
 },
 "nbformat": 4,
 "nbformat_minor": 2
}