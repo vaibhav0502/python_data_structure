{
 "cells": [
  {
   "cell_type": "markdown",
   "metadata": {},
   "source": [
    "## Stack\n",
    "\n",
    "### What is Stack?\n",
    "\n",
    "Stack is an abstract data type with a bounded(predefined) capacity. It is a simple data structure that allows adding and removing elements in a particular order. Every time an element is added, it goes on the top of the stack and the only element that can be removed is the element that is at the top of the stack, just like a pile of objects.\n",
    "\n",
    "This feature feature makes it **LIFO** data structure. LIFO stands for **Last-in-first-out.** Here, the element which is placed (inserted or added) last, is accessed first. In stack terminology, **insertion operation** is called **PUSH** operation and **removal operation** is called **POP** operation."
   ]
  },
  {
   "cell_type": "markdown",
   "metadata": {},
   "source": [
    "### Applications of Stack:\n",
    "1. Expression evolution\n",
    "- Expression conversion\n",
    "    - Infix to Postfix\n",
    "    - Infix to Prefix\n",
    "    - Postfix to Infix\n",
    "    - Prefix to Infix\n",
    "- Parsing\n",
    "- Simulation of recusrion\n",
    "\n",
    "###  Operations:\n",
    "- PUSH\n",
    "- POP\n",
    "\n",
    "#### Algorithm for PUSH operation\n",
    "1. Check if the stack is full or not.\n",
    "2. If the stack is full, then print error of overflow and exit the program.\n",
    "3. If the stack is not full, then increment the top and add the element.\n",
    "\n",
    "#### Algorithm for POP operation\n",
    "1. Check if the stack is empty or not.\n",
    "2. If the stack is empty, then print error of underflow and exit the program.\n",
    "3. If the stack is not empty, then print the element at the top and decrement the top.\n",
    "\n",
    "### Time Complexity:\n",
    "- Push Operation : O(1)\n",
    "- Pop Operation : O(1)\n",
    "- Top Operation : O(1)\n",
    "- Search Operation : O(n)"
   ]
  },
  {
   "cell_type": "markdown",
   "metadata": {},
   "source": [
    "## Implementation:"
   ]
  },
  {
   "cell_type": "code",
   "execution_count": 25,
   "metadata": {},
   "outputs": [],
   "source": [
    "# !pip install collection"
   ]
  },
  {
   "cell_type": "code",
   "execution_count": 26,
   "metadata": {},
   "outputs": [],
   "source": [
    "import random\n",
    "from collections import deque"
   ]
  },
  {
   "cell_type": "code",
   "execution_count": 30,
   "metadata": {},
   "outputs": [],
   "source": [
    "class Stack:\n",
    "    def __init__(self, limit=5, use_deque=False):\n",
    "        self.stack = []\n",
    "\n",
    "        if use_deque:\n",
    "            self.stack = deque()        \n",
    "\n",
    "        self.limit = limit\n",
    "    \n",
    "    def display_stack(self):\n",
    "        \"\"\"\n",
    "        Print stack elements\n",
    "        \"\"\"\n",
    "#         print(self.stack)\n",
    "        print(\" \".join(str(ele) for ele in self.stack))\n",
    "    \n",
    "    def push(self, element):\n",
    "        \"\"\"\n",
    "        Perform push operation.\n",
    "        \"\"\"\n",
    "        if len(self.stack) > self.limit:\n",
    "            print(\"Stack is overflow.\")\n",
    "        else:\n",
    "            self.stack.append(element)\n",
    "\n",
    "    def pop(self):\n",
    "        \"\"\"\n",
    "        Perform pop operation.\n",
    "        \"\"\"\n",
    "        if len(self.stack) <= 0:\n",
    "            print(\"Stack is underflow.\")\n",
    "        else:\n",
    "            self.stack.pop()\n"
   ]
  },
  {
   "cell_type": "code",
   "execution_count": 35,
   "metadata": {},
   "outputs": [
    {
     "name": "stdout",
     "output_type": "stream",
     "text": [
      "Stack Implementation using list:\n",
      "Enter limit for stack:34\n",
      "After POP\n",
      "87 42 59 17 67 43 80 18 80 82 76 99 30 57 83 79 23 5 34 1 89 11 96 79 17 43 90 17 87 23 75 16 37 52\n",
      "After POP\n",
      "87 42 59 17 67 43 80 18 80 82 76 99 30 57 83 79 23 5 34 1 89 11 96 79 17 43 90 17 87 23 75\n"
     ]
    }
   ],
   "source": [
    "if __name__ == '__main__':\n",
    "    print(\"Stack Implementation using list:\")\n",
    "    number = int(input(\"Enter limit for stack:\"))\n",
    "    stack_obj = Stack(limit=number)\n",
    "\n",
    "    # perform push\n",
    "    print(\"After POP\")\n",
    "    for i in range(number):\n",
    "        stack_obj.push(random.randint(1, 100))\n",
    " \n",
    "    # display stack\n",
    "    stack_obj.display_stack()\n",
    "\n",
    "    # perform pop\n",
    "    print(\"After POP\")\n",
    "    stack_obj.pop()\n",
    "    stack_obj.pop()\n",
    "    stack_obj.pop()\n",
    "\n",
    "    # display stack\n",
    "    stack_obj.display_stack()"
   ]
  },
  {
   "cell_type": "code",
   "execution_count": 36,
   "metadata": {},
   "outputs": [
    {
     "name": "stdout",
     "output_type": "stream",
     "text": [
      "Stack Implementation using deque:\n",
      "Enter limit for stack:12\n",
      "After PUSH\n",
      "91 16 10 83 11 31 81 58 14 25 89 44\n",
      "After POP\n",
      "91 16 10 83 11 31 81 58 14\n"
     ]
    }
   ],
   "source": [
    "if __name__ == '__main__':\n",
    "    print(\"Stack Implementation using deque:\")\n",
    "    number = int(input(\"Enter limit for stack:\"))\n",
    "    stack_obj = Stack(limit=number, use_deque=True)\n",
    "\n",
    "    print(\"After PUSH\")\n",
    "    # perform push\n",
    "    for i in range(number):\n",
    "        stack_obj.push(random.randint(1, 100))\n",
    " \n",
    "    # display stack\n",
    "    stack_obj.display_stack()\n",
    "\n",
    "    # perform pop\n",
    "    print(\"After POP\")\n",
    "    stack_obj.pop()\n",
    "    stack_obj.pop()\n",
    "    stack_obj.pop()\n",
    "\n",
    "    # display stack\n",
    "    stack_obj.display_stack()"
   ]
  },
  {
   "cell_type": "code",
   "execution_count": null,
   "metadata": {},
   "outputs": [],
   "source": []
  },
  {
   "cell_type": "code",
   "execution_count": null,
   "metadata": {},
   "outputs": [],
   "source": []
  }
 ],
 "metadata": {
  "interpreter": {
   "hash": "0ce8e330fdfa01a801b269af156d3b01cfc11a824d80e64c5301ff9b658b8ac9"
  },
  "kernelspec": {
   "display_name": "Python 3",
   "language": "python",
   "name": "python3"
  },
  "language_info": {
   "codemirror_mode": {
    "name": "ipython",
    "version": 3
   },
   "file_extension": ".py",
   "mimetype": "text/x-python",
   "name": "python",
   "nbconvert_exporter": "python",
   "pygments_lexer": "ipython3",
   "version": "3.7.4"
  }
 },
 "nbformat": 4,
 "nbformat_minor": 2
}
