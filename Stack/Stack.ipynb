{
 "cells": [
  {
   "cell_type": "markdown",
   "metadata": {},
   "source": [
    "## Stack\n",
    "\n",
    "### What is Stack?\n",
    "\n",
    "Stack is an abstract data type with a bounded(predefined) capacity. It is a simple data structure that allows adding and removing elements in a particular order. Every time an element is added, it goes on the top of the stack and the only element that can be removed is the element that is at the top of the stack, just like a pile of objects.\n",
    "\n",
    "This feature feature makes it **LIFO** data structure. LIFO stands for **Last-in-first-out.** Here, the element which is placed (inserted or added) last, is accessed first. In stack terminology, **insertion operation** is called **PUSH** operation and **removal operation** is called **POP** operation."
   ]
  },
  {
   "cell_type": "markdown",
   "metadata": {},
   "source": [
    "### Applications of Stack:\n",
    "1. Expression evolution\n",
    "- Expression conversion\n",
    "    - Infix to Postfix\n",
    "    - Infix to Prefix\n",
    "    - Postfix to Infix\n",
    "    - Prefix to Infix\n",
    "- Parsing\n",
    "- Simulation of recusrion\n",
    "\n",
    "###  Operations:\n",
    "- PUSH\n",
    "- POP\n",
    "\n",
    "#### Algorithm for PUSH operation\n",
    "1. Check if the stack is full or not.\n",
    "2. If the stack is full, then print error of overflow and exit the program.\n",
    "3. If the stack is not full, then increment the top and add the element.\n",
    "\n",
    "#### Algorithm for POP operation\n",
    "1. Check if the stack is empty or not.\n",
    "2. If the stack is empty, then print error of underflow and exit the program.\n",
    "3. If the stack is not empty, then print the element at the top and decrement the top.\n",
    "\n",
    "### Time Complexity:\n",
    "- Push Operation : O(1)\n",
    "- Pop Operation : O(1)\n",
    "- Top Operation : O(1)\n",
    "- Search Operation : O(n)"
   ]
  },
  {
   "cell_type": "code",
   "execution_count": null,
   "metadata": {},
   "outputs": [],
   "source": []
  },
  {
   "cell_type": "code",
   "execution_count": null,
   "metadata": {},
   "outputs": [],
   "source": []
  }
 ],
 "metadata": {
  "kernelspec": {
   "display_name": "Python 3",
   "language": "python",
   "name": "python3"
  },
  "language_info": {
   "codemirror_mode": {
    "name": "ipython",
    "version": 3
   },
   "file_extension": ".py",
   "mimetype": "text/x-python",
   "name": "python",
   "nbconvert_exporter": "python",
   "pygments_lexer": "ipython3",
   "version": "3.7.4"
  }
 },
 "nbformat": 4,
 "nbformat_minor": 2
}
