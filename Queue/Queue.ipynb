{
 "cells": [
  {
   "cell_type": "markdown",
   "source": [
    "## Queue\r\n",
    "\r\n",
    "### What is Queue?\r\n",
    "\r\n",
    "Like stack, queue is a linear data structure that stores items in First In First Out (FIFO) manner. With a queue the least recently added item is removed first. A good example of queue is any queue of consumers for a resource where the consumer that came first is served first.\r\n",
    "\r\n",
    "![title](../Resources/Queue.png)"
   ],
   "metadata": {}
  },
  {
   "cell_type": "markdown",
   "source": [
    "## Operations associated with queue are: \r\n",
    " \r\n",
    "**Enqueue:** Adds an item to the queue. If the queue is full, then it is said to be an Overflow condition – Time Complexity : O(1)\r\n",
    "\r\n",
    "**Dequeue:** Removes an item from the queue. The items are popped in the same order in which they are pushed. If the queue is empty, then it is said to be an Underflow condition – Time Complexity : O(1)\r\n",
    "\r\n",
    "**Front:** Get the front item from queue – Time Complexity : O(1)\r\n",
    "\r\n",
    "**Rear:** Get the last item from queue – Time Complexity : O(1)"
   ],
   "metadata": {}
  },
  {
   "cell_type": "markdown",
   "source": [
    "# Implementation"
   ],
   "metadata": {}
  },
  {
   "cell_type": "code",
   "execution_count": 60,
   "source": [
    "class Queue:\r\n",
    "    def __init__(self, limit=5):\r\n",
    "        self.queue = []\r\n",
    "        self.front = None\r\n",
    "        self.rear = None\r\n",
    "        self.limit = limit\r\n",
    "        self.size = 0\r\n",
    "\r\n",
    "    def display_queue(self):\r\n",
    "        \"\"\"\r\n",
    "        Print queue elements\r\n",
    "        \"\"\"\r\n",
    "        # print(\" \".join(str(ele) for ele in self.queue))\r\n",
    "        print(self.queue)\r\n",
    "\r\n",
    "    def enqueue(self, element):\r\n",
    "        \"\"\"\r\n",
    "        Add element from rear end of queue\r\n",
    "        \"\"\"\r\n",
    "        if self.size >= self.limit:\r\n",
    "            print(\"Queue is overflow.\")\r\n",
    "        else:\r\n",
    "            self.queue.append(element)\r\n",
    "            if self.front is None:\r\n",
    "                self.front = self.rear = 0\r\n",
    "                self.size += 1\r\n",
    "            else:\r\n",
    "                self.rear = self.size\r\n",
    "                self.size += 1        \r\n",
    "\r\n",
    "    def dequeue(self):\r\n",
    "        \"\"\"\r\n",
    "        Remove element from front end of queue\r\n",
    "        \"\"\"\r\n",
    "        if self.size <= 0:\r\n",
    "            print(\"Queue is underflow cannot perform dequeue.\")\r\n",
    "        else:\r\n",
    "            self.queue.pop(self.front)\r\n",
    "            print(\"After dequeue:\")\r\n",
    "            self.display_queue()\r\n",
    "            self.size -= 1\r\n",
    "            if self.size == 0:\r\n",
    "                self.front = self.rear = 0\r\n",
    "            else:\r\n",
    "                self.rear = self.size - 1\r\n",
    "\r\n",
    "    def size_queue(self):\r\n",
    "        return self.size"
   ],
   "outputs": [],
   "metadata": {}
  },
  {
   "cell_type": "code",
   "execution_count": 61,
   "source": [
    "import random"
   ],
   "outputs": [],
   "metadata": {}
  },
  {
   "cell_type": "code",
   "execution_count": 67,
   "source": [
    "if __name__ == '__main__':\r\n",
    "    print(\"Queue Implementation\")\r\n",
    "    number = int(input(\"Enter limit for queue:\"))\r\n",
    "    queue_obj = Queue(limit=number)\r\n",
    "\r\n",
    "    # perform enqueue\r\n",
    "    print(\"After enqueue:\")\r\n",
    "    for i in range(7):\r\n",
    "        queue_obj.enqueue(random.randint(1, 100))\r\n",
    "    print(\"Size after enqueue:\", queue_obj.size_queue())\r\n",
    "\r\n",
    "    # display queue\r\n",
    "    queue_obj.display_queue()\r\n",
    "    print(\"-\"*30)\r\n",
    "\r\n",
    "    # perform dequeue\r\n",
    "    queue_obj.dequeue()\r\n",
    "    print(\"Size after dequeue:\", queue_obj.size_queue())\r\n",
    "    print(\"-\"*30)\r\n",
    "\r\n",
    "    queue_obj.dequeue()\r\n",
    "    print(\"Size after dequeue:\", queue_obj.size_queue())\r\n",
    "    print(\"-\"*30)\r\n",
    "\r\n",
    "    queue_obj.dequeue()\r\n",
    "    print(\"Size after dequeue:\", queue_obj.size_queue())\r\n",
    "    print(\"-\"*30)\r\n",
    "\r\n",
    "    queue_obj.dequeue()\r\n",
    "    print(\"Size after dequeue:\", queue_obj.size_queue())\r\n"
   ],
   "outputs": [
    {
     "output_type": "stream",
     "name": "stdout",
     "text": [
      "Queue Implementation\n",
      "After enqueue:\n",
      "Queue is overflow.\n",
      "Queue is overflow.\n",
      "Queue is overflow.\n",
      "Queue is overflow.\n",
      "Size after enqueue: 3\n",
      "[1, 24, 87]\n",
      "------------------------------\n",
      "After dequeue:\n",
      "[24, 87]\n",
      "Size after dequeue: 2\n",
      "------------------------------\n",
      "After dequeue:\n",
      "[87]\n",
      "Size after dequeue: 1\n",
      "------------------------------\n",
      "After dequeue:\n",
      "[]\n",
      "Size after dequeue: 0\n",
      "------------------------------\n",
      "Queue is underflow cannot perform dequeue.\n",
      "Size after dequeue: 0\n"
     ]
    }
   ],
   "metadata": {}
  },
  {
   "cell_type": "code",
   "execution_count": null,
   "source": [],
   "outputs": [],
   "metadata": {}
  }
 ],
 "metadata": {
  "kernelspec": {
   "name": "python3",
   "display_name": "Python 3.7.4 64-bit ('base': conda)"
  },
  "language_info": {
   "codemirror_mode": {
    "name": "ipython",
    "version": 3
   },
   "file_extension": ".py",
   "mimetype": "text/x-python",
   "name": "python",
   "nbconvert_exporter": "python",
   "pygments_lexer": "ipython3",
   "version": "3.7.4"
  },
  "interpreter": {
   "hash": "6ace13e61ce3de3b06427a7ec45493e011c9b4deda0cc4d80d8e288107ab820d"
  }
 },
 "nbformat": 4,
 "nbformat_minor": 2
}